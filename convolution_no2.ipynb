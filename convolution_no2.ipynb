{
 "cells": [
  {
   "cell_type": "code",
   "execution_count": 1,
   "metadata": {},
   "outputs": [],
   "source": [
    "import numpy as np\n",
    "import argparse\n",
    "import cv2 as cv\n",
    "from skimage.exposure import rescale_intensity\n",
    "from matplotlib import pyplot as plt"
   ]
  },
  {
   "cell_type": "code",
   "execution_count": 2,
   "metadata": {},
   "outputs": [],
   "source": [
    "def convolve_divRGB(image, kernel,pad,stride):\n",
    "    b,g,r = cv.split(img)\n",
    "    b = convolve_main(b, kernel,pad,stride)\n",
    "    g = convolve_main(g, kernel,pad,stride)\n",
    "    r = convolve_main(r, kernel,pad,stride)\n",
    "    output = cv.merge((b,g,r))\n",
    "    return output"
   ]
  },
  {
   "cell_type": "code",
   "execution_count": 3,
   "metadata": {},
   "outputs": [],
   "source": [
    "def convolve_main(image, kernel,pad,stride):\n",
    "\n",
    "    (iH, iW) = image.shape[:2]\n",
    "    (kH, kW) = kernel.shape[:2]\n",
    "    \n",
    "    if pad==0:\n",
    "        arange_size = pad\n",
    "        ch_position = 2\n",
    "    elif pad==1:\n",
    "        arange_size = pad\n",
    "        ch_position = 0\n",
    "    else:\n",
    "        arange_size = 2*pad\n",
    "        ch_position = 0\n",
    "    \n",
    "    image = cv.copyMakeBorder(image, pad, pad, pad, pad, cv.BORDER_CONSTANT)\n",
    "    oH = int((iH + 2*pad-kH)/stride + 1)\n",
    "    oW = int((iW + 2*pad-kW)/stride + 1)\n",
    "    output = np.zeros((oH, oW),dtype=\"float32\")\n",
    "    for y in np.arange(pad+ch_position, iH + arange_size-ch_position,stride):\n",
    "        for x in np.arange(pad+ch_position, iW + arange_size-ch_position,stride): \n",
    "            roi = image[y-pad: y-pad+3, x-pad: x-pad+3]\n",
    "            k = (roi*kernel).sum()\n",
    "            temp_y = int((y-pad)/stride)\n",
    "            temp_x = int((x-pad)/stride)\n",
    "            output[temp_y, temp_x]=k\n",
    "    output = rescale_intensity(output, in_range=(0,255))\n",
    "    output = ((output*255).astype(\"uint8\"))\n",
    "           # print output\n",
    "    return output"
   ]
  },
  {
   "cell_type": "code",
   "execution_count": 5,
   "metadata": {},
   "outputs": [],
   "source": [
    "img = cv.imread('lena.jpg')\n",
    "# gray = cv.cvtColor(img,cv.COLOR_BGR2GRAY)\n",
    "kernel = np.array([[-1,-1,-1],\n",
    "                   [-1,8,-1],\n",
    "                   [-1,-1,-1]])\n",
    "\n",
    "dst = convolve_divRGB(img, kernel,10,1)\n",
    "dst2 = cv.filter2D(img, -1, kernel)\n",
    "cv.imshow('ori',img)\n",
    "cv.imshow('my_convol',dst)\n",
    "cv.imshow('filter2D_convol',dst2)\n",
    "cv.waitKey(0)\n",
    "cv.destroyAllWindows()"
   ]
  },
  {
   "cell_type": "code",
   "execution_count": null,
   "metadata": {},
   "outputs": [],
   "source": []
  }
 ],
 "metadata": {
  "kernelspec": {
   "display_name": "Python 3",
   "language": "python",
   "name": "python3"
  },
  "language_info": {
   "codemirror_mode": {
    "name": "ipython",
    "version": 2
   },
   "file_extension": ".py",
   "mimetype": "text/x-python",
   "name": "python",
   "nbconvert_exporter": "python",
   "pygments_lexer": "ipython2",
   "version": "2.7.12"
  }
 },
 "nbformat": 4,
 "nbformat_minor": 2
}
